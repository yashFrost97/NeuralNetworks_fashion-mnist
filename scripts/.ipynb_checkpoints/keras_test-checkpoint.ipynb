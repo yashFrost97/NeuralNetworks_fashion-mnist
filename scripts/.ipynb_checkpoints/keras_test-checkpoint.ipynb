{
 "cells": [
  {
   "cell_type": "code",
   "execution_count": 1,
   "metadata": {},
   "outputs": [
    {
     "name": "stderr",
     "output_type": "stream",
     "text": [
      "D:\\ProgramData\\Anaconda3\\lib\\site-packages\\h5py\\__init__.py:36: FutureWarning: Conversion of the second argument of issubdtype from `float` to `np.floating` is deprecated. In future, it will be treated as `np.float64 == np.dtype(float).type`.\n",
      "  from ._conv import register_converters as _register_converters\n"
     ]
    }
   ],
   "source": [
    "import tensorflow as tf\n",
    "from tensorflow import keras\n",
    "import numpy as np\n",
    "import matplotlib.pyplot as plt\n",
    "\n"
   ]
  },
  {
   "cell_type": "code",
   "execution_count": 2,
   "metadata": {
    "scrolled": true
   },
   "outputs": [
    {
     "name": "stdout",
     "output_type": "stream",
     "text": [
      "(10000, 784)\n",
      "(60000, 28, 28)\n",
      "(10000, 28, 28)\n"
     ]
    }
   ],
   "source": [
    "# dataset = keras.datasets.fashion_mnist\n",
    "# (train_image, train_label), (test_image, test_label) = dataset.load_data()\n",
    "\n",
    "import util_mnist_reader\n",
    "X_train, y_train = util_mnist_reader.load_mnist('../data/fashion', kind='train')\n",
    "X_test, y_test = util_mnist_reader.load_mnist('../data/fashion', kind='t10k')\n",
    "\n",
    "print(X_test.shape)\n",
    "X_train = np.reshape(X_train, [60000, 28, 28])\n",
    "X_test = np.reshape(X_test, [10000, 28, 28])\n",
    "\n",
    "print(X_train.shape)\n",
    "print(X_test.shape)\n",
    "# print(train_image.shape)"
   ]
  },
  {
   "cell_type": "code",
   "execution_count": 3,
   "metadata": {},
   "outputs": [],
   "source": [
    "X_train = X_train / 255.0\n",
    "X_test = X_test / 255.0"
   ]
  },
  {
   "cell_type": "code",
   "execution_count": 4,
   "metadata": {},
   "outputs": [
    {
     "name": "stdout",
     "output_type": "stream",
     "text": [
      "WARNING:tensorflow:From D:\\ProgramData\\Anaconda3\\lib\\site-packages\\tensorflow\\python\\ops\\resource_variable_ops.py:435: colocate_with (from tensorflow.python.framework.ops) is deprecated and will be removed in a future version.\n",
      "Instructions for updating:\n",
      "Colocations handled automatically by placer.\n"
     ]
    }
   ],
   "source": [
    "model = keras.Sequential([\n",
    "    keras.layers.Flatten(input_shape=(28, 28)),\n",
    "    keras.layers.Dense(128, activation='sigmoid'),\n",
    "    keras.layers.Dense(10, activation = 'softmax'),\n",
    "])\n",
    "\n",
    "model.compile(optimizer = 'adam', loss = 'sparse_categorical_crossentropy', metrics = ['accuracy'])"
   ]
  },
  {
   "cell_type": "code",
   "execution_count": 5,
   "metadata": {},
   "outputs": [
    {
     "name": "stdout",
     "output_type": "stream",
     "text": [
      "Epoch 1/20\n",
      "60000/60000 [==============================] - 3s 47us/sample - loss: 0.5388 - acc: 0.8160\n",
      "Epoch 2/20\n",
      "60000/60000 [==============================] - 2s 36us/sample - loss: 0.3908 - acc: 0.8603\n",
      "Epoch 3/20\n",
      "60000/60000 [==============================] - 2s 36us/sample - loss: 0.3540 - acc: 0.8716\n",
      "Epoch 4/20\n",
      "60000/60000 [==============================] - 2s 34us/sample - loss: 0.3282 - acc: 0.8813\n",
      "Epoch 5/20\n",
      "60000/60000 [==============================] - 2s 36us/sample - loss: 0.3111 - acc: 0.8870\n",
      "Epoch 6/20\n",
      "60000/60000 [==============================] - 2s 34us/sample - loss: 0.2946 - acc: 0.8920\n",
      "Epoch 7/20\n",
      "60000/60000 [==============================] - 2s 34us/sample - loss: 0.2807 - acc: 0.8968\n",
      "Epoch 8/20\n",
      "60000/60000 [==============================] - 2s 34us/sample - loss: 0.2719 - acc: 0.8998\n",
      "Epoch 9/20\n",
      "60000/60000 [==============================] - 3s 57us/sample - loss: 0.2591 - acc: 0.9039\n",
      "Epoch 10/20\n",
      "60000/60000 [==============================] - 2s 37us/sample - loss: 0.2512 - acc: 0.9077\n",
      "Epoch 11/20\n",
      "60000/60000 [==============================] - 2s 36us/sample - loss: 0.2411 - acc: 0.9112\n",
      "Epoch 12/20\n",
      "60000/60000 [==============================] - 2s 35us/sample - loss: 0.2343 - acc: 0.9136\n",
      "Epoch 13/20\n",
      "60000/60000 [==============================] - 2s 34us/sample - loss: 0.2263 - acc: 0.9163\n",
      "Epoch 14/20\n",
      "60000/60000 [==============================] - 2s 34us/sample - loss: 0.2190 - acc: 0.9198\n",
      "Epoch 15/20\n",
      "60000/60000 [==============================] - 2s 34us/sample - loss: 0.2116 - acc: 0.9223\n",
      "Epoch 16/20\n",
      "60000/60000 [==============================] - 2s 34us/sample - loss: 0.2060 - acc: 0.9242\n",
      "Epoch 17/20\n",
      "60000/60000 [==============================] - 2s 37us/sample - loss: 0.1998 - acc: 0.9272\n",
      "Epoch 18/20\n",
      "60000/60000 [==============================] - 2s 36us/sample - loss: 0.1945 - acc: 0.9288\n",
      "Epoch 19/20\n",
      "60000/60000 [==============================] - 2s 35us/sample - loss: 0.1882 - acc: 0.9304\n",
      "Epoch 20/20\n",
      "60000/60000 [==============================] - 2s 35us/sample - loss: 0.1833 - acc: 0.93291s\n"
     ]
    },
    {
     "data": {
      "text/plain": [
       "<tensorflow.python.keras.callbacks.History at 0x1c55fd7af60>"
      ]
     },
     "execution_count": 5,
     "metadata": {},
     "output_type": "execute_result"
    }
   ],
   "source": [
    "neural_network = model.fit(X_train, y_train, epochs = 20)"
   ]
  },
  {
   "cell_type": "code",
   "execution_count": 6,
   "metadata": {},
   "outputs": [
    {
     "name": "stdout",
     "output_type": "stream",
     "text": [
      "10000/10000 [==============================] - 0s 22us/sample - loss: 0.3169 - acc: 0.8894\n",
      "Testing accuracy = 0.8894000053405762\n"
     ]
    }
   ],
   "source": [
    "testing_loss, testing_accuracy = model.evaluate(X_test, y_test, verbose = 1)\n",
    "\n",
    "\n",
    "\n",
    "print(f\"Testing accuracy = {testing_accuracy}\")"
   ]
  },
  {
   "cell_type": "code",
   "execution_count": 8,
   "metadata": {},
   "outputs": [
    {
     "name": "stderr",
     "output_type": "stream",
     "text": [
      "Using TensorFlow backend.\n"
     ]
    },
    {
     "name": "stdout",
     "output_type": "stream",
     "text": [
      "(60000, 28, 28, 1)\n"
     ]
    }
   ],
   "source": [
    "from keras.models import Sequential\n",
    "from keras.layers import Dense, Activation\n",
    "\n",
    "X_train_cnn = X_train\n",
    "y_train_cnn = y_train\n",
    "\n",
    "X_train_cnn = np.reshape(X_train_cnn, (X_train_cnn.shape[0], 28, 28, 1))\n",
    "\n",
    "print(X_train_cnn.shape)\n",
    "\n",
    "model_cnn = keras.models.Sequential()\n",
    "model_cnn.add(keras.layers.Conv2D(32, (3, 3), activation = 'relu', input_shape=(28, 28, 1)))\n",
    "model_cnn.add(keras.layers.MaxPooling2D(2, 2))\n",
    "model_cnn.add(keras.layers.Conv2D(64, (3, 3), activation = 'relu'))\n",
    "model_cnn.add(keras.layers.MaxPooling2D(2, 2))\n",
    "model_cnn.add(keras.layers.Conv2D(64, (3, 3), activation = 'relu'))\n",
    "model_cnn.add(keras.layers.Flatten())\n",
    "model_cnn.add(keras.layers.Dense(64, activation='relu'))\n",
    "model_cnn.add(keras.layers.Dense(10, activation = 'softmax'))\n",
    "\n",
    "model_cnn.compile(optimizer = 'sgd', loss = 'sparse_categorical_crossentropy', metrics = ['accuracy'])"
   ]
  },
  {
   "cell_type": "code",
   "execution_count": 9,
   "metadata": {
    "scrolled": true
   },
   "outputs": [
    {
     "name": "stdout",
     "output_type": "stream",
     "text": [
      "Epoch 1/10\n",
      "60000/60000 [==============================] - 22s 374us/sample - loss: 0.9443 - acc: 0.6614\n",
      "Epoch 2/10\n",
      "60000/60000 [==============================] - 22s 370us/sample - loss: 0.5792 - acc: 0.7805\n",
      "Epoch 3/10\n",
      "60000/60000 [==============================] - 22s 375us/sample - loss: 0.4955 - acc: 0.8144\n",
      "Epoch 4/10\n",
      "60000/60000 [==============================] - 22s 371us/sample - loss: 0.4448 - acc: 0.8354\n",
      "Epoch 5/10\n",
      "60000/60000 [==============================] - 22s 370us/sample - loss: 0.4069 - acc: 0.8505\n",
      "Epoch 6/10\n",
      "60000/60000 [==============================] - 23s 382us/sample - loss: 0.3814 - acc: 0.8604\n",
      "Epoch 7/10\n",
      "60000/60000 [==============================] - 23s 379us/sample - loss: 0.3619 - acc: 0.8675\n",
      "Epoch 8/10\n",
      "60000/60000 [==============================] - 23s 376us/sample - loss: 0.3464 - acc: 0.8739\n",
      "Epoch 9/10\n",
      "60000/60000 [==============================] - 22s 375us/sample - loss: 0.3327 - acc: 0.8788\n",
      "Epoch 10/10\n",
      "60000/60000 [==============================] - 22s 372us/sample - loss: 0.3200 - acc: 0.8836\n"
     ]
    },
    {
     "data": {
      "text/plain": [
       "<tensorflow.python.keras.callbacks.History at 0x1fef29a27b8>"
      ]
     },
     "execution_count": 9,
     "metadata": {},
     "output_type": "execute_result"
    }
   ],
   "source": [
    "model_cnn.fit(X_train_cnn, y_train_cnn, epochs = 10)"
   ]
  },
  {
   "cell_type": "code",
   "execution_count": 10,
   "metadata": {},
   "outputs": [
    {
     "name": "stdout",
     "output_type": "stream",
     "text": [
      "10000/10000 [==============================] - 1s 130us/sample - loss: 0.3485 - acc: 0.8751\n"
     ]
    }
   ],
   "source": [
    "X_test_cnn = X_test\n",
    "X_test_cnn = np.reshape(X_test_cnn, (X_test_cnn.shape[0], 28, 28, 1))\n",
    "\n",
    "test_cnn_loss, test_cnn_acc = model_cnn.evaluate(X_test_cnn, y_test, verbose = 1)"
   ]
  },
  {
   "cell_type": "code",
   "execution_count": 11,
   "metadata": {},
   "outputs": [
    {
     "name": "stdout",
     "output_type": "stream",
     "text": [
      "Testing accuracy for CNN = 0.8751000165939331\n"
     ]
    }
   ],
   "source": [
    "print(f\"Testing accuracy for CNN = {test_cnn_acc}\")"
   ]
  },
  {
   "cell_type": "code",
   "execution_count": null,
   "metadata": {},
   "outputs": [],
   "source": []
  }
 ],
 "metadata": {
  "kernelspec": {
   "display_name": "Python 3",
   "language": "python",
   "name": "python3"
  },
  "language_info": {
   "codemirror_mode": {
    "name": "ipython",
    "version": 3
   },
   "file_extension": ".py",
   "mimetype": "text/x-python",
   "name": "python",
   "nbconvert_exporter": "python",
   "pygments_lexer": "ipython3",
   "version": "3.6.5"
  }
 },
 "nbformat": 4,
 "nbformat_minor": 2
}
